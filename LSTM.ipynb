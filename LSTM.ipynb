{
 "cells": [
  {
   "cell_type": "code",
   "execution_count": null,
   "metadata": {},
   "outputs": [
    {
     "name": "stdout",
     "output_type": "stream",
     "text": [
      "['AEP_hourly.csv', 'COMED_hourly.csv', 'DAYTON_hourly.csv', 'DEOK_hourly.csv', 'DOM_hourly.csv', 'DUQ_hourly.csv', 'EKPC_hourly.csv', 'est_hourly.paruqet', 'FE_hourly.csv', 'NI_hourly.csv', 'PJME_hourly.csv', 'PJMW_hourly.csv', 'pjm_hourly_est.csv', 'PJM_Load_hourly.csv']\n"
     ]
    }
   ],
   "source": [
    "import os\n",
    "import time\n",
    "\n",
    "import numpy as np\n",
    "import pandas as pd\n",
    "import matplotlib.pyplot as plt\n",
    "\n",
    "import torch\n",
    "import torch.nn as nn\n",
    "from torch.utils.data import TensorDataset, DataLoader\n",
    "\n",
    "from tqdm import tqdm_notebook\n",
    "from sklearn.preprocessing import MinMaxScaler\n",
    "\n",
    "from sklearn.metrics import r2_score\n",
    "\n",
    "\n",
    "data_dir = \"data\\ConsumptionData/\"\n",
    "print(os.listdir(data_dir))"
   ]
  },
  {
   "cell_type": "markdown",
   "metadata": {},
   "source": [
    "### Data Preparation"
   ]
  },
  {
   "cell_type": "code",
   "execution_count": 67,
   "metadata": {},
   "outputs": [
    {
     "data": {
      "text/html": [
       "<div>\n",
       "<style scoped>\n",
       "    .dataframe tbody tr th:only-of-type {\n",
       "        vertical-align: middle;\n",
       "    }\n",
       "\n",
       "    .dataframe tbody tr th {\n",
       "        vertical-align: top;\n",
       "    }\n",
       "\n",
       "    .dataframe thead th {\n",
       "        text-align: right;\n",
       "    }\n",
       "</style>\n",
       "<table border=\"1\" class=\"dataframe\">\n",
       "  <thead>\n",
       "    <tr style=\"text-align: right;\">\n",
       "      <th></th>\n",
       "      <th>Datetime</th>\n",
       "      <th>AEP_MW</th>\n",
       "    </tr>\n",
       "  </thead>\n",
       "  <tbody>\n",
       "    <tr>\n",
       "      <th>0</th>\n",
       "      <td>2004-12-31 01:00:00</td>\n",
       "      <td>13478.0</td>\n",
       "    </tr>\n",
       "    <tr>\n",
       "      <th>1</th>\n",
       "      <td>2004-12-31 02:00:00</td>\n",
       "      <td>12865.0</td>\n",
       "    </tr>\n",
       "    <tr>\n",
       "      <th>2</th>\n",
       "      <td>2004-12-31 03:00:00</td>\n",
       "      <td>12577.0</td>\n",
       "    </tr>\n",
       "    <tr>\n",
       "      <th>3</th>\n",
       "      <td>2004-12-31 04:00:00</td>\n",
       "      <td>12517.0</td>\n",
       "    </tr>\n",
       "    <tr>\n",
       "      <th>4</th>\n",
       "      <td>2004-12-31 05:00:00</td>\n",
       "      <td>12670.0</td>\n",
       "    </tr>\n",
       "  </tbody>\n",
       "</table>\n",
       "</div>"
      ],
      "text/plain": [
       "              Datetime   AEP_MW\n",
       "0  2004-12-31 01:00:00  13478.0\n",
       "1  2004-12-31 02:00:00  12865.0\n",
       "2  2004-12-31 03:00:00  12577.0\n",
       "3  2004-12-31 04:00:00  12517.0\n",
       "4  2004-12-31 05:00:00  12670.0"
      ]
     },
     "execution_count": 67,
     "metadata": {},
     "output_type": "execute_result"
    }
   ],
   "source": [
    "pd.read_csv(data_dir + 'AEP_hourly.csv').head()"
   ]
  },
  {
   "cell_type": "code",
   "execution_count": 2,
   "metadata": {},
   "outputs": [],
   "source": [
    "def create_sequence(data, seq_length):\n",
    "    inputs = np.zeros((len(data)-seq_length,seq_length,1))\n",
    "    labels = np.zeros(len(data)-seq_length)\n",
    "\n",
    "    for i in range(seq_length, len(data)):\n",
    "        inputs[i-seq_length] = data[i-seq_length:i]\n",
    "        labels[i-seq_length] = data[i,0]\n",
    "    inputs = inputs.reshape(-1,seq_length,1)\n",
    "    labels = labels.reshape(-1,1)\n",
    "\n",
    "    return inputs, labels"
   ]
  },
  {
   "cell_type": "code",
   "execution_count": null,
   "metadata": {},
   "outputs": [],
   "source": [
    "# Load the data    \n",
    "df = pd.read_csv(\"C:\\iCloudDrive\\DataCamp\\data\\ConsumptionData\\AEP_hourly.csv\", parse_dates=[0])\n",
    "df = df.sort_values(\"Datetime\").drop(\"Datetime\",axis=1)\n",
    "\n",
    "# Scaling the input data\n",
    "sc = MinMaxScaler()\n",
    "label_sc = MinMaxScaler()\n",
    "data = sc.fit_transform(df['AEP_MW'].values.reshape(-1,1))\n",
    "label_sc.fit(df.iloc[:,0].values.reshape(-1,1))\n",
    "\n",
    "# Creating the sequence data\n",
    "seq_length = 72\n",
    "inputs, labels = create_sequence(data, seq_length)\n",
    "\n",
    "# Splitting the data into training and test sets\n",
    "test_portion = int(0.1*len(inputs))\n",
    "train_x = inputs[:-test_portion]\n",
    "train_y = labels[:-test_portion]\n",
    "test_x = (inputs[-test_portion:])\n",
    "test_y = (labels[-test_portion:])"
   ]
  },
  {
   "cell_type": "code",
   "execution_count": 4,
   "metadata": {},
   "outputs": [
    {
     "name": "stdout",
     "output_type": "stream",
     "text": [
      "(109081, 72, 1) (109081, 1) (12120, 72, 1) (12120, 1)\n"
     ]
    }
   ],
   "source": [
    "print(train_x.shape, train_y.shape, test_x.shape, test_y.shape)"
   ]
  },
  {
   "cell_type": "code",
   "execution_count": 5,
   "metadata": {},
   "outputs": [],
   "source": [
    "batch_size = 1024\n",
    "\n",
    "train_data = TensorDataset(torch.from_numpy(train_x), torch.from_numpy(train_y))\n",
    "train_loader = DataLoader(train_data, shuffle=True, batch_size=batch_size, drop_last=True)"
   ]
  },
  {
   "cell_type": "code",
   "execution_count": 6,
   "metadata": {},
   "outputs": [],
   "source": [
    "is_cuda = torch.cuda.is_available()\n",
    "\n",
    "# If we have a GPU available, we'll set our device to GPU\n",
    "if is_cuda:\n",
    "    device = torch.device(\"cuda\")\n",
    "else:\n",
    "    device = torch.device(\"cpu\")"
   ]
  },
  {
   "cell_type": "markdown",
   "metadata": {},
   "source": [
    "### LSTM Architecture"
   ]
  },
  {
   "cell_type": "code",
   "execution_count": 7,
   "metadata": {},
   "outputs": [],
   "source": [
    "class LSTMNet(nn.Module):\n",
    "    def __init__(self, input_dim, hidden_dim, n_layers, drop_prob=0.2):\n",
    "        super(LSTMNet, self).__init__()\n",
    "        self.hidden_dim = hidden_dim\n",
    "        self.n_layers = n_layers\n",
    "        \n",
    "        self.lstm = nn.LSTM(input_dim, hidden_dim, n_layers, batch_first=True, dropout=drop_prob)\n",
    "        self.fc = nn.Linear(hidden_dim, 1)\n",
    "        self.relu = nn.ReLU()\n",
    "        \n",
    "    def forward(self, x, h):\n",
    "        out, h = self.lstm(x, h)\n",
    "        out = self.fc(self.relu(out[:,-1]))\n",
    "        return out, h\n",
    "    \n",
    "    def init_hidden(self, batch_size):\n",
    "        h0 = torch.zeros(self.n_layers, batch_size, self.hidden_dim).to(device)\n",
    "        # Initialize long-term memory\n",
    "        c0 = torch.zeros(self.n_layers, batch_size, self.hidden_dim).to(device)\n",
    "        return (h0, c0)"
   ]
  },
  {
   "cell_type": "markdown",
   "metadata": {},
   "source": [
    "### Training Model"
   ]
  },
  {
   "cell_type": "code",
   "execution_count": null,
   "metadata": {},
   "outputs": [],
   "source": [
    "def train(train_loader, learn_rate, n_layers, hidden_dim, EPOCHS):\n",
    "    \n",
    "    input_dim = 1\n",
    "\n",
    "    # Instantiating the model\n",
    "    model = LSTMNet(input_dim, hidden_dim, n_layers, 0.2)\n",
    "    model.to(device)\n",
    "    \n",
    "    # Defining loss function and optimizer\n",
    "    criterion = nn.MSELoss()\n",
    "    optimizer = torch.optim.Adam(model.parameters(), lr=learn_rate)\n",
    "    \n",
    "    # For plotting afterwords\n",
    "    losses = []\n",
    "\n",
    "    model.train()\n",
    "    print(\"Starting Training\")\n",
    "\n",
    "    # Start training loop\n",
    "    for epoch in range(1,EPOCHS+1):\n",
    "        h = model.init_hidden(batch_size)\n",
    "        avg_loss = 0.\n",
    "        counter = 0\n",
    "        for x, label in train_loader:\n",
    "            counter += 1\n",
    "            \n",
    "            h = tuple([e.data for e in h])  # Detach hidden state from the computational graph\n",
    "            optimizer.zero_grad()  # Clear previous gradients\n",
    "            \n",
    "            out, h = model(x.to(device).float(), h)  # Forward pass through the model\n",
    "            loss = criterion(out, label.to(device).float())\n",
    "            loss.backward()\n",
    "            optimizer.step()\n",
    "            avg_loss += loss.item()\n",
    "            losses.append(loss.item())\n",
    "            \n",
    "            if counter%20 == 0:\n",
    "                print(\"Epoch {}......Step: {}/{}....... Average Loss for Epoch: {}\".format(epoch, counter, len(train_loader), avg_loss/counter))\n",
    "        print(\"Epoch {}/{} Done, Total Loss: {}\".format(epoch, EPOCHS, avg_loss/len(train_loader)))\n",
    "    return model, losses"
   ]
  },
  {
   "cell_type": "code",
   "execution_count": null,
   "metadata": {},
   "outputs": [
    {
     "name": "stdout",
     "output_type": "stream",
     "text": [
      "Starting Training\n",
      "Epoch 1......Step: 20/106....... Average Loss for Epoch: 0.048031250946223736\n",
      "Epoch 1......Step: 40/106....... Average Loss for Epoch: 0.035463658487424256\n",
      "Epoch 1......Step: 60/106....... Average Loss for Epoch: 0.029091747663915157\n",
      "Epoch 1......Step: 80/106....... Average Loss for Epoch: 0.024928619025740773\n",
      "Epoch 1......Step: 100/106....... Average Loss for Epoch: 0.021682558110915125\n",
      "Epoch 1/5 Done, Total Loss: 0.02082181620007416\n",
      "Epoch 2......Step: 20/106....... Average Loss for Epoch: 0.004792577354237437\n",
      "Epoch 2......Step: 40/106....... Average Loss for Epoch: 0.0038862730609253047\n",
      "Epoch 2......Step: 60/106....... Average Loss for Epoch: 0.0033254881059595694\n",
      "Epoch 2......Step: 80/106....... Average Loss for Epoch: 0.002961887283890974\n",
      "Epoch 2......Step: 100/106....... Average Loss for Epoch: 0.002717000643024221\n",
      "Epoch 2/5 Done, Total Loss: 0.0026537968342210043\n",
      "Epoch 3......Step: 20/106....... Average Loss for Epoch: 0.001645758532686159\n",
      "Epoch 3......Step: 40/106....... Average Loss for Epoch: 0.001521898151258938\n",
      "Epoch 3......Step: 60/106....... Average Loss for Epoch: 0.0014743001976360878\n",
      "Epoch 3......Step: 80/106....... Average Loss for Epoch: 0.0014175978431012481\n",
      "Epoch 3......Step: 100/106....... Average Loss for Epoch: 0.0013733059447258711\n",
      "Epoch 3/5 Done, Total Loss: 0.0013602864664961707\n",
      "Epoch 4......Step: 20/106....... Average Loss for Epoch: 0.001213858340634033\n",
      "Epoch 4......Step: 40/106....... Average Loss for Epoch: 0.0011327280968544073\n",
      "Epoch 4......Step: 60/106....... Average Loss for Epoch: 0.0010359118488850072\n",
      "Epoch 4......Step: 80/106....... Average Loss for Epoch: 0.0009709603888040874\n",
      "Epoch 4......Step: 100/106....... Average Loss for Epoch: 0.0009161685756407678\n",
      "Epoch 4/5 Done, Total Loss: 0.000908077084393469\n",
      "Epoch 5......Step: 20/106....... Average Loss for Epoch: 0.000798964049317874\n",
      "Epoch 5......Step: 40/106....... Average Loss for Epoch: 0.000725822919048369\n",
      "Epoch 5......Step: 60/106....... Average Loss for Epoch: 0.0006781133823096752\n",
      "Epoch 5......Step: 80/106....... Average Loss for Epoch: 0.0006486484628112521\n",
      "Epoch 5......Step: 100/106....... Average Loss for Epoch: 0.000631360859842971\n",
      "Epoch 5/5 Done, Total Loss: 0.0006232943799333507\n"
     ]
    }
   ],
   "source": [
    "# Hyperparameters\n",
    "\n",
    "learning_rate = 0.001\n",
    "n_layers = 2\n",
    "hidden_dim = 256\n",
    "epochs = 5\n",
    "\n",
    "lstm_model, losses = train(train_loader, learning_rate, n_layers, hidden_dim, epochs)"
   ]
  },
  {
   "cell_type": "code",
   "execution_count": 59,
   "metadata": {},
   "outputs": [],
   "source": [
    "torch.save(lstm_model.state_dict(), 'lstm_model.pth')"
   ]
  },
  {
   "cell_type": "markdown",
   "metadata": {},
   "source": [
    "### Evaluation"
   ]
  },
  {
   "cell_type": "code",
   "execution_count": 62,
   "metadata": {},
   "outputs": [
    {
     "data": {
      "image/png": "[encoded data removed]",
      "text/plain": [
       "<Figure size 640x480 with 1 Axes>"
      ]
     },
     "metadata": {},
     "output_type": "display_data"
    }
   ],
   "source": [
    "plt.plot(losses, label=\"Training Loss\")\n",
    "plt.title(\"Losses\")\n",
    "plt.ylabel(\"MSE Loss\")\n",
    "plt.xlabel(\"Batch\")\n",
    "plt.show()"
   ]
  },
  {
   "cell_type": "code",
   "execution_count": null,
   "metadata": {},
   "outputs": [],
   "source": [
    "def evaluate(model, test_x, test_y, label_scaler):\n",
    "    model.eval()\n",
    "    outputs = []\n",
    "    targets = []\n",
    "    for i, seq in enumerate(test_x):\n",
    "        inp = torch.from_numpy(np.array(seq)).reshape(1, seq_length, 1)\n",
    "        labs = torch.from_numpy(np.array(test_y[i])).reshape(1, 1)\n",
    "        h = model.init_hidden(1)\n",
    "        out, h = model(inp.to(device).float(), h)\n",
    "        outputs.append(label_scaler.inverse_transform(out.cpu().detach().numpy()).reshape(-1))\n",
    "        targets.append(label_scaler.inverse_transform(labs.numpy()).reshape(-1))\n",
    "\n",
    "    r2 = r2_score(targets, outputs)\n",
    "    print(\"R^2 Score: {}\".format(r2))\n",
    "    print(\"R^2 Score: {}\".format(r2))\n",
    "    return outputs, targets"
   ]
  },
  {
   "cell_type": "code",
   "execution_count": null,
   "metadata": {},
   "outputs": [
    {
     "name": "stdout",
     "output_type": "stream",
     "text": [
      "R^2 Score: 0.9789235145441634\n"
     ]
    }
   ],
   "source": [
    "# Evaluate model with test data\n",
    "lstm_outputs, targets = evaluate(lstm_model, test_x, test_y, label_sc)"
   ]
  },
  {
   "cell_type": "code",
   "execution_count": 51,
   "metadata": {},
   "outputs": [
    {
     "data": {
      "image/png": "[encoded data removed]",
      "text/plain": [
       "<Figure size 800x600 with 1 Axes>"
      ]
     },
     "metadata": {},
     "output_type": "display_data"
    }
   ],
   "source": [
    "plt.figure(figsize=(8,6))\n",
    "plt.plot(lstm_outputs[3567:3667], \"-o\", color=\"g\", label=\"Predicted\")\n",
    "plt.plot(targets[3567:3667], color=\"b\", label=\"Actual\")\n",
    "plt.ylabel('Energy Consumption (MW)')\n",
    "plt.xlabel('Hours')\n",
    "plt.title('Energy Consumption Prediction - Sample')\n",
    "plt.legend()\n",
    "plt.show()"
   ]
  }
 ],
 "metadata": {
  "kernelspec": {
   "display_name": "Python 3",
   "language": "python",
   "name": "python3"
  },
  "language_info": {
   "codemirror_mode": {
    "name": "ipython",
    "version": 3
   },
   "file_extension": ".py",
   "mimetype": "text/x-python",
   "name": "python",
   "nbconvert_exporter": "python",
   "pygments_lexer": "ipython3",
   "version": "3.10.11"
  },
  "widgets": {
   "application/vnd.jupyter.widget-state+json": {
    "state": {
     "400efabcfc324827b87eb7e9c1336e79": {
      "model_module": "@jupyter-widgets/base",
      "model_module_version": "1.2.0",
      "model_name": "LayoutModel",
      "state": {
       "_model_module": "@jupyter-widgets/base",
       "_model_module_version": "1.2.0",
       "_model_name": "LayoutModel",
       "_view_count": null,
       "_view_module": "@jupyter-widgets/base",
       "_view_module_version": "1.2.0",
       "_view_name": "LayoutView",
       "align_content": null,
       "align_items": null,
       "align_self": null,
       "border": null,
       "bottom": null,
       "display": null,
       "flex": null,
       "flex_flow": null,
       "grid_area": null,
       "grid_auto_columns": null,
       "grid_auto_flow": null,
       "grid_auto_rows": null,
       "grid_column": null,
       "grid_gap": null,
       "grid_row": null,
       "grid_template_areas": null,
       "grid_template_columns": null,
       "grid_template_rows": null,
       "height": null,
       "justify_content": null,
       "justify_items": null,
       "left": null,
       "margin": null,
       "max_height": null,
       "max_width": null,
       "min_height": null,
       "min_width": null,
       "object_fit": null,
       "object_position": null,
       "order": null,
       "overflow": null,
       "overflow_x": null,
       "overflow_y": null,
       "padding": null,
       "right": null,
       "top": null,
       "visibility": null,
       "width": null
      }
     },
     "9b26cfd1a96348f7a38580017f2b6f84": {
      "model_module": "@jupyter-widgets/controls",
      "model_module_version": "1.5.0",
      "model_name": "HTMLModel",
      "state": {
       "_dom_classes": [],
       "_model_module": "@jupyter-widgets/controls",
       "_model_module_version": "1.5.0",
       "_model_name": "HTMLModel",
       "_view_count": null,
       "_view_module": "@jupyter-widgets/controls",
       "_view_module_version": "1.5.0",
       "_view_name": "HTMLView",
       "description": "",
       "description_tooltip": null,
       "layout": "IPY_MODEL_400efabcfc324827b87eb7e9c1336e79",
       "placeholder": "​",
       "style": "IPY_MODEL_f371f792ec484b8c886e4c45b9ea25fb",
       "value": "100% 14/14 [01:39&lt;00:00,  9.47s/it]"
      }
     },
     "b4764679bb3b481aab4991e6baef4279": {
      "model_module": "@jupyter-widgets/controls",
      "model_module_version": "1.5.0",
      "model_name": "ProgressStyleModel",
      "state": {
       "_model_module": "@jupyter-widgets/controls",
       "_model_module_version": "1.5.0",
       "_model_name": "ProgressStyleModel",
       "_view_count": null,
       "_view_module": "@jupyter-widgets/base",
       "_view_module_version": "1.2.0",
       "_view_name": "StyleView",
       "bar_color": null,
       "description_width": ""
      }
     },
     "b5b6f6e9824f469488a28339a12ff429": {
      "model_module": "@jupyter-widgets/controls",
      "model_module_version": "1.5.0",
      "model_name": "HBoxModel",
      "state": {
       "_dom_classes": [],
       "_model_module": "@jupyter-widgets/controls",
       "_model_module_version": "1.5.0",
       "_model_name": "HBoxModel",
       "_view_count": null,
       "_view_module": "@jupyter-widgets/controls",
       "_view_module_version": "1.5.0",
       "_view_name": "HBoxView",
       "box_style": "",
       "children": [
        "IPY_MODEL_b9aab5cb9103400b856658bfc0c3e254",
        "IPY_MODEL_9b26cfd1a96348f7a38580017f2b6f84"
       ],
       "layout": "IPY_MODEL_f776ae227190462c94165d7227be18d0"
      }
     },
     "b9aab5cb9103400b856658bfc0c3e254": {
      "model_module": "@jupyter-widgets/controls",
      "model_module_version": "1.5.0",
      "model_name": "IntProgressModel",
      "state": {
       "_dom_classes": [],
       "_model_module": "@jupyter-widgets/controls",
       "_model_module_version": "1.5.0",
       "_model_name": "IntProgressModel",
       "_view_count": null,
       "_view_module": "@jupyter-widgets/controls",
       "_view_module_version": "1.5.0",
       "_view_name": "ProgressView",
       "bar_style": "success",
       "description": "",
       "description_tooltip": null,
       "layout": "IPY_MODEL_e5ee68c6b96944c384aea6aa622c59b0",
       "max": 14,
       "min": 0,
       "orientation": "horizontal",
       "style": "IPY_MODEL_b4764679bb3b481aab4991e6baef4279",
       "value": 14
      }
     },
     "e5ee68c6b96944c384aea6aa622c59b0": {
      "model_module": "@jupyter-widgets/base",
      "model_module_version": "1.2.0",
      "model_name": "LayoutModel",
      "state": {
       "_model_module": "@jupyter-widgets/base",
       "_model_module_version": "1.2.0",
       "_model_name": "LayoutModel",
       "_view_count": null,
       "_view_module": "@jupyter-widgets/base",
       "_view_module_version": "1.2.0",
       "_view_name": "LayoutView",
       "align_content": null,
       "align_items": null,
       "align_self": null,
       "border": null,
       "bottom": null,
       "display": null,
       "flex": null,
       "flex_flow": null,
       "grid_area": null,
       "grid_auto_columns": null,
       "grid_auto_flow": null,
       "grid_auto_rows": null,
       "grid_column": null,
       "grid_gap": null,
       "grid_row": null,
       "grid_template_areas": null,
       "grid_template_columns": null,
       "grid_template_rows": null,
       "height": null,
       "justify_content": null,
       "justify_items": null,
       "left": null,
       "margin": null,
       "max_height": null,
       "max_width": null,
       "min_height": null,
       "min_width": null,
       "object_fit": null,
       "object_position": null,
       "order": null,
       "overflow": null,
       "overflow_x": null,
       "overflow_y": null,
       "padding": null,
       "right": null,
       "top": null,
       "visibility": null,
       "width": null
      }
     },
     "f371f792ec484b8c886e4c45b9ea25fb": {
      "model_module": "@jupyter-widgets/controls",
      "model_module_version": "1.5.0",
      "model_name": "DescriptionStyleModel",
      "state": {
       "_model_module": "@jupyter-widgets/controls",
       "_model_module_version": "1.5.0",
       "_model_name": "DescriptionStyleModel",
       "_view_count": null,
       "_view_module": "@jupyter-widgets/base",
       "_view_module_version": "1.2.0",
       "_view_name": "StyleView",
       "description_width": ""
      }
     },
     "f776ae227190462c94165d7227be18d0": {
      "model_module": "@jupyter-widgets/base",
      "model_module_version": "1.2.0",
      "model_name": "LayoutModel",
      "state": {
       "_model_module": "@jupyter-widgets/base",
       "_model_module_version": "1.2.0",
       "_model_name": "LayoutModel",
       "_view_count": null,
       "_view_module": "@jupyter-widgets/base",
       "_view_module_version": "1.2.0",
       "_view_name": "LayoutView",
       "align_content": null,
       "align_items": null,
       "align_self": null,
       "border": null,
       "bottom": null,
       "display": null,
       "flex": null,
       "flex_flow": null,
       "grid_area": null,
       "grid_auto_columns": null,
       "grid_auto_flow": null,
       "grid_auto_rows": null,
       "grid_column": null,
       "grid_gap": null,
       "grid_row": null,
       "grid_template_areas": null,
       "grid_template_columns": null,
       "grid_template_rows": null,
       "height": null,
       "justify_content": null,
       "justify_items": null,
       "left": null,
       "margin": null,
       "max_height": null,
       "max_width": null,
       "min_height": null,
       "min_width": null,
       "object_fit": null,
       "object_position": null,
       "order": null,
       "overflow": null,
       "overflow_x": null,
       "overflow_y": null,
       "padding": null,
       "right": null,
       "top": null,
       "visibility": null,
       "width": null
      }
     }
    },
    "version_major": 2,
    "version_minor": 0
   }
  }
 },
 "nbformat": 4,
 "nbformat_minor": 1
}
